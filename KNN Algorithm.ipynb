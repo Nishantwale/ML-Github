{
 "cells": [
  {
   "cell_type": "code",
   "execution_count": 1,
   "id": "0a0d8ad2",
   "metadata": {},
   "outputs": [],
   "source": [
    "import numpy as np\n",
    "import pandas as pd"
   ]
  },
  {
   "cell_type": "code",
   "execution_count": 2,
   "id": "c0b10c72",
   "metadata": {},
   "outputs": [],
   "source": [
    "Iris = pd.read_csv(\"Iris.csv\")"
   ]
  },
  {
   "cell_type": "code",
   "execution_count": 3,
   "id": "9fcb5ea7",
   "metadata": {},
   "outputs": [
    {
     "data": {
      "text/html": [
       "<div>\n",
       "<style scoped>\n",
       "    .dataframe tbody tr th:only-of-type {\n",
       "        vertical-align: middle;\n",
       "    }\n",
       "\n",
       "    .dataframe tbody tr th {\n",
       "        vertical-align: top;\n",
       "    }\n",
       "\n",
       "    .dataframe thead th {\n",
       "        text-align: right;\n",
       "    }\n",
       "</style>\n",
       "<table border=\"1\" class=\"dataframe\">\n",
       "  <thead>\n",
       "    <tr style=\"text-align: right;\">\n",
       "      <th></th>\n",
       "      <th>Id</th>\n",
       "      <th>SepalLengthCm</th>\n",
       "      <th>SepalWidthCm</th>\n",
       "      <th>PetalLengthCm</th>\n",
       "      <th>PetalWidthCm</th>\n",
       "      <th>Species</th>\n",
       "    </tr>\n",
       "  </thead>\n",
       "  <tbody>\n",
       "    <tr>\n",
       "      <th>0</th>\n",
       "      <td>1</td>\n",
       "      <td>5.1</td>\n",
       "      <td>3.5</td>\n",
       "      <td>1.4</td>\n",
       "      <td>0.2</td>\n",
       "      <td>Iris-setosa</td>\n",
       "    </tr>\n",
       "    <tr>\n",
       "      <th>1</th>\n",
       "      <td>2</td>\n",
       "      <td>4.9</td>\n",
       "      <td>3.0</td>\n",
       "      <td>1.4</td>\n",
       "      <td>0.2</td>\n",
       "      <td>Iris-setosa</td>\n",
       "    </tr>\n",
       "    <tr>\n",
       "      <th>2</th>\n",
       "      <td>3</td>\n",
       "      <td>4.7</td>\n",
       "      <td>3.2</td>\n",
       "      <td>1.3</td>\n",
       "      <td>0.2</td>\n",
       "      <td>Iris-setosa</td>\n",
       "    </tr>\n",
       "    <tr>\n",
       "      <th>3</th>\n",
       "      <td>4</td>\n",
       "      <td>4.6</td>\n",
       "      <td>3.1</td>\n",
       "      <td>1.5</td>\n",
       "      <td>0.2</td>\n",
       "      <td>Iris-setosa</td>\n",
       "    </tr>\n",
       "    <tr>\n",
       "      <th>4</th>\n",
       "      <td>5</td>\n",
       "      <td>5.0</td>\n",
       "      <td>3.6</td>\n",
       "      <td>1.4</td>\n",
       "      <td>0.2</td>\n",
       "      <td>Iris-setosa</td>\n",
       "    </tr>\n",
       "    <tr>\n",
       "      <th>...</th>\n",
       "      <td>...</td>\n",
       "      <td>...</td>\n",
       "      <td>...</td>\n",
       "      <td>...</td>\n",
       "      <td>...</td>\n",
       "      <td>...</td>\n",
       "    </tr>\n",
       "    <tr>\n",
       "      <th>145</th>\n",
       "      <td>146</td>\n",
       "      <td>6.7</td>\n",
       "      <td>3.0</td>\n",
       "      <td>5.2</td>\n",
       "      <td>2.3</td>\n",
       "      <td>Iris-virginica</td>\n",
       "    </tr>\n",
       "    <tr>\n",
       "      <th>146</th>\n",
       "      <td>147</td>\n",
       "      <td>6.3</td>\n",
       "      <td>2.5</td>\n",
       "      <td>5.0</td>\n",
       "      <td>1.9</td>\n",
       "      <td>Iris-virginica</td>\n",
       "    </tr>\n",
       "    <tr>\n",
       "      <th>147</th>\n",
       "      <td>148</td>\n",
       "      <td>6.5</td>\n",
       "      <td>3.0</td>\n",
       "      <td>5.2</td>\n",
       "      <td>2.0</td>\n",
       "      <td>Iris-virginica</td>\n",
       "    </tr>\n",
       "    <tr>\n",
       "      <th>148</th>\n",
       "      <td>149</td>\n",
       "      <td>6.2</td>\n",
       "      <td>3.4</td>\n",
       "      <td>5.4</td>\n",
       "      <td>2.3</td>\n",
       "      <td>Iris-virginica</td>\n",
       "    </tr>\n",
       "    <tr>\n",
       "      <th>149</th>\n",
       "      <td>150</td>\n",
       "      <td>5.9</td>\n",
       "      <td>3.0</td>\n",
       "      <td>5.1</td>\n",
       "      <td>1.8</td>\n",
       "      <td>Iris-virginica</td>\n",
       "    </tr>\n",
       "  </tbody>\n",
       "</table>\n",
       "<p>150 rows × 6 columns</p>\n",
       "</div>"
      ],
      "text/plain": [
       "      Id  SepalLengthCm  SepalWidthCm  PetalLengthCm  PetalWidthCm  \\\n",
       "0      1            5.1           3.5            1.4           0.2   \n",
       "1      2            4.9           3.0            1.4           0.2   \n",
       "2      3            4.7           3.2            1.3           0.2   \n",
       "3      4            4.6           3.1            1.5           0.2   \n",
       "4      5            5.0           3.6            1.4           0.2   \n",
       "..   ...            ...           ...            ...           ...   \n",
       "145  146            6.7           3.0            5.2           2.3   \n",
       "146  147            6.3           2.5            5.0           1.9   \n",
       "147  148            6.5           3.0            5.2           2.0   \n",
       "148  149            6.2           3.4            5.4           2.3   \n",
       "149  150            5.9           3.0            5.1           1.8   \n",
       "\n",
       "            Species  \n",
       "0       Iris-setosa  \n",
       "1       Iris-setosa  \n",
       "2       Iris-setosa  \n",
       "3       Iris-setosa  \n",
       "4       Iris-setosa  \n",
       "..              ...  \n",
       "145  Iris-virginica  \n",
       "146  Iris-virginica  \n",
       "147  Iris-virginica  \n",
       "148  Iris-virginica  \n",
       "149  Iris-virginica  \n",
       "\n",
       "[150 rows x 6 columns]"
      ]
     },
     "execution_count": 3,
     "metadata": {},
     "output_type": "execute_result"
    }
   ],
   "source": [
    "Iris"
   ]
  },
  {
   "cell_type": "code",
   "execution_count": 4,
   "id": "d2146dec",
   "metadata": {},
   "outputs": [],
   "source": [
    "X = Iris.drop([\"Species\"],axis=1)\n",
    "y = Iris[\"Species\"]"
   ]
  },
  {
   "cell_type": "code",
   "execution_count": 5,
   "id": "dbb26ed0",
   "metadata": {},
   "outputs": [
    {
     "data": {
      "text/plain": [
       "4.3"
      ]
     },
     "execution_count": 5,
     "metadata": {},
     "output_type": "execute_result"
    }
   ],
   "source": [
    "min(X[\"SepalLengthCm\"])"
   ]
  },
  {
   "cell_type": "code",
   "execution_count": 6,
   "id": "95adbaf8",
   "metadata": {},
   "outputs": [
    {
     "data": {
      "text/plain": [
       "7.9"
      ]
     },
     "execution_count": 6,
     "metadata": {},
     "output_type": "execute_result"
    }
   ],
   "source": [
    "max(X[\"SepalLengthCm\"])"
   ]
  },
  {
   "cell_type": "code",
   "execution_count": 7,
   "id": "35387a9b",
   "metadata": {},
   "outputs": [
    {
     "data": {
      "text/plain": [
       "1.0"
      ]
     },
     "execution_count": 7,
     "metadata": {},
     "output_type": "execute_result"
    }
   ],
   "source": [
    "min(X[\"PetalLengthCm\"])"
   ]
  },
  {
   "cell_type": "code",
   "execution_count": 8,
   "id": "eb030011",
   "metadata": {},
   "outputs": [
    {
     "data": {
      "text/plain": [
       "6.9"
      ]
     },
     "execution_count": 8,
     "metadata": {},
     "output_type": "execute_result"
    }
   ],
   "source": [
    "max(X[\"PetalLengthCm\"])"
   ]
  },
  {
   "cell_type": "code",
   "execution_count": 9,
   "id": "a32d6c20",
   "metadata": {},
   "outputs": [
    {
     "data": {
      "text/plain": [
       "0.1"
      ]
     },
     "execution_count": 9,
     "metadata": {},
     "output_type": "execute_result"
    }
   ],
   "source": [
    "min(X[\"PetalWidthCm\"])"
   ]
  },
  {
   "cell_type": "code",
   "execution_count": 10,
   "id": "8c770168",
   "metadata": {},
   "outputs": [
    {
     "data": {
      "text/plain": [
       "2.5"
      ]
     },
     "execution_count": 10,
     "metadata": {},
     "output_type": "execute_result"
    }
   ],
   "source": [
    "max(X[\"PetalWidthCm\"])"
   ]
  },
  {
   "cell_type": "code",
   "execution_count": 12,
   "id": "c8df6ae2",
   "metadata": {},
   "outputs": [
    {
     "data": {
      "text/plain": [
       "array([[0.        , 0.22222222, 0.625     , 0.06779661, 0.04166667],\n",
       "       [0.00671141, 0.16666667, 0.41666667, 0.06779661, 0.04166667],\n",
       "       [0.01342282, 0.11111111, 0.5       , 0.05084746, 0.04166667],\n",
       "       [0.02013423, 0.08333333, 0.45833333, 0.08474576, 0.04166667],\n",
       "       [0.02684564, 0.19444444, 0.66666667, 0.06779661, 0.04166667],\n",
       "       [0.03355705, 0.30555556, 0.79166667, 0.11864407, 0.125     ],\n",
       "       [0.04026846, 0.08333333, 0.58333333, 0.06779661, 0.08333333],\n",
       "       [0.04697987, 0.19444444, 0.58333333, 0.08474576, 0.04166667],\n",
       "       [0.05369128, 0.02777778, 0.375     , 0.06779661, 0.04166667],\n",
       "       [0.06040268, 0.16666667, 0.45833333, 0.08474576, 0.        ],\n",
       "       [0.06711409, 0.30555556, 0.70833333, 0.08474576, 0.04166667],\n",
       "       [0.0738255 , 0.13888889, 0.58333333, 0.10169492, 0.04166667],\n",
       "       [0.08053691, 0.13888889, 0.41666667, 0.06779661, 0.        ],\n",
       "       [0.08724832, 0.        , 0.41666667, 0.01694915, 0.        ],\n",
       "       [0.09395973, 0.41666667, 0.83333333, 0.03389831, 0.04166667],\n",
       "       [0.10067114, 0.38888889, 1.        , 0.08474576, 0.125     ],\n",
       "       [0.10738255, 0.30555556, 0.79166667, 0.05084746, 0.125     ],\n",
       "       [0.11409396, 0.22222222, 0.625     , 0.06779661, 0.08333333],\n",
       "       [0.12080537, 0.38888889, 0.75      , 0.11864407, 0.08333333],\n",
       "       [0.12751678, 0.22222222, 0.75      , 0.08474576, 0.08333333],\n",
       "       [0.13422819, 0.30555556, 0.58333333, 0.11864407, 0.04166667],\n",
       "       [0.1409396 , 0.22222222, 0.70833333, 0.08474576, 0.125     ],\n",
       "       [0.14765101, 0.08333333, 0.66666667, 0.        , 0.04166667],\n",
       "       [0.15436242, 0.22222222, 0.54166667, 0.11864407, 0.16666667],\n",
       "       [0.16107383, 0.13888889, 0.58333333, 0.15254237, 0.04166667],\n",
       "       [0.16778523, 0.19444444, 0.41666667, 0.10169492, 0.04166667],\n",
       "       [0.17449664, 0.19444444, 0.58333333, 0.10169492, 0.125     ],\n",
       "       [0.18120805, 0.25      , 0.625     , 0.08474576, 0.04166667],\n",
       "       [0.18791946, 0.25      , 0.58333333, 0.06779661, 0.04166667],\n",
       "       [0.19463087, 0.11111111, 0.5       , 0.10169492, 0.04166667],\n",
       "       [0.20134228, 0.13888889, 0.45833333, 0.10169492, 0.04166667],\n",
       "       [0.20805369, 0.30555556, 0.58333333, 0.08474576, 0.125     ],\n",
       "       [0.2147651 , 0.25      , 0.875     , 0.08474576, 0.        ],\n",
       "       [0.22147651, 0.33333333, 0.91666667, 0.06779661, 0.04166667],\n",
       "       [0.22818792, 0.16666667, 0.45833333, 0.08474576, 0.        ],\n",
       "       [0.23489933, 0.19444444, 0.5       , 0.03389831, 0.04166667],\n",
       "       [0.24161074, 0.33333333, 0.625     , 0.05084746, 0.04166667],\n",
       "       [0.24832215, 0.16666667, 0.45833333, 0.08474576, 0.        ],\n",
       "       [0.25503356, 0.02777778, 0.41666667, 0.05084746, 0.04166667],\n",
       "       [0.26174497, 0.22222222, 0.58333333, 0.08474576, 0.04166667],\n",
       "       [0.26845638, 0.19444444, 0.625     , 0.05084746, 0.08333333],\n",
       "       [0.27516779, 0.05555556, 0.125     , 0.05084746, 0.08333333],\n",
       "       [0.28187919, 0.02777778, 0.5       , 0.05084746, 0.04166667],\n",
       "       [0.2885906 , 0.19444444, 0.625     , 0.10169492, 0.20833333],\n",
       "       [0.29530201, 0.22222222, 0.75      , 0.15254237, 0.125     ],\n",
       "       [0.30201342, 0.13888889, 0.41666667, 0.06779661, 0.08333333],\n",
       "       [0.30872483, 0.22222222, 0.75      , 0.10169492, 0.04166667],\n",
       "       [0.31543624, 0.08333333, 0.5       , 0.06779661, 0.04166667],\n",
       "       [0.32214765, 0.27777778, 0.70833333, 0.08474576, 0.04166667],\n",
       "       [0.32885906, 0.19444444, 0.54166667, 0.06779661, 0.04166667],\n",
       "       [0.33557047, 0.75      , 0.5       , 0.62711864, 0.54166667],\n",
       "       [0.34228188, 0.58333333, 0.5       , 0.59322034, 0.58333333],\n",
       "       [0.34899329, 0.72222222, 0.45833333, 0.66101695, 0.58333333],\n",
       "       [0.3557047 , 0.33333333, 0.125     , 0.50847458, 0.5       ],\n",
       "       [0.36241611, 0.61111111, 0.33333333, 0.61016949, 0.58333333],\n",
       "       [0.36912752, 0.38888889, 0.33333333, 0.59322034, 0.5       ],\n",
       "       [0.37583893, 0.55555556, 0.54166667, 0.62711864, 0.625     ],\n",
       "       [0.38255034, 0.16666667, 0.16666667, 0.38983051, 0.375     ],\n",
       "       [0.38926174, 0.63888889, 0.375     , 0.61016949, 0.5       ],\n",
       "       [0.39597315, 0.25      , 0.29166667, 0.49152542, 0.54166667],\n",
       "       [0.40268456, 0.19444444, 0.        , 0.42372881, 0.375     ],\n",
       "       [0.40939597, 0.44444444, 0.41666667, 0.54237288, 0.58333333],\n",
       "       [0.41610738, 0.47222222, 0.08333333, 0.50847458, 0.375     ],\n",
       "       [0.42281879, 0.5       , 0.375     , 0.62711864, 0.54166667],\n",
       "       [0.4295302 , 0.36111111, 0.375     , 0.44067797, 0.5       ],\n",
       "       [0.43624161, 0.66666667, 0.45833333, 0.57627119, 0.54166667],\n",
       "       [0.44295302, 0.36111111, 0.41666667, 0.59322034, 0.58333333],\n",
       "       [0.44966443, 0.41666667, 0.29166667, 0.52542373, 0.375     ],\n",
       "       [0.45637584, 0.52777778, 0.08333333, 0.59322034, 0.58333333],\n",
       "       [0.46308725, 0.36111111, 0.20833333, 0.49152542, 0.41666667],\n",
       "       [0.46979866, 0.44444444, 0.5       , 0.6440678 , 0.70833333],\n",
       "       [0.47651007, 0.5       , 0.33333333, 0.50847458, 0.5       ],\n",
       "       [0.48322148, 0.55555556, 0.20833333, 0.66101695, 0.58333333],\n",
       "       [0.48993289, 0.5       , 0.33333333, 0.62711864, 0.45833333],\n",
       "       [0.4966443 , 0.58333333, 0.375     , 0.55932203, 0.5       ],\n",
       "       [0.5033557 , 0.63888889, 0.41666667, 0.57627119, 0.54166667],\n",
       "       [0.51006711, 0.69444444, 0.33333333, 0.6440678 , 0.54166667],\n",
       "       [0.51677852, 0.66666667, 0.41666667, 0.6779661 , 0.66666667],\n",
       "       [0.52348993, 0.47222222, 0.375     , 0.59322034, 0.58333333],\n",
       "       [0.53020134, 0.38888889, 0.25      , 0.42372881, 0.375     ],\n",
       "       [0.53691275, 0.33333333, 0.16666667, 0.47457627, 0.41666667],\n",
       "       [0.54362416, 0.33333333, 0.16666667, 0.45762712, 0.375     ],\n",
       "       [0.55033557, 0.41666667, 0.29166667, 0.49152542, 0.45833333],\n",
       "       [0.55704698, 0.47222222, 0.29166667, 0.69491525, 0.625     ],\n",
       "       [0.56375839, 0.30555556, 0.41666667, 0.59322034, 0.58333333],\n",
       "       [0.5704698 , 0.47222222, 0.58333333, 0.59322034, 0.625     ],\n",
       "       [0.57718121, 0.66666667, 0.45833333, 0.62711864, 0.58333333],\n",
       "       [0.58389262, 0.55555556, 0.125     , 0.57627119, 0.5       ],\n",
       "       [0.59060403, 0.36111111, 0.41666667, 0.52542373, 0.5       ],\n",
       "       [0.59731544, 0.33333333, 0.20833333, 0.50847458, 0.5       ],\n",
       "       [0.60402685, 0.33333333, 0.25      , 0.57627119, 0.45833333],\n",
       "       [0.61073826, 0.5       , 0.41666667, 0.61016949, 0.54166667],\n",
       "       [0.61744966, 0.41666667, 0.25      , 0.50847458, 0.45833333],\n",
       "       [0.62416107, 0.19444444, 0.125     , 0.38983051, 0.375     ],\n",
       "       [0.63087248, 0.36111111, 0.29166667, 0.54237288, 0.5       ],\n",
       "       [0.63758389, 0.38888889, 0.41666667, 0.54237288, 0.45833333],\n",
       "       [0.6442953 , 0.38888889, 0.375     , 0.54237288, 0.5       ],\n",
       "       [0.65100671, 0.52777778, 0.375     , 0.55932203, 0.5       ],\n",
       "       [0.65771812, 0.22222222, 0.20833333, 0.33898305, 0.41666667],\n",
       "       [0.66442953, 0.38888889, 0.33333333, 0.52542373, 0.5       ],\n",
       "       [0.67114094, 0.55555556, 0.54166667, 0.84745763, 1.        ],\n",
       "       [0.67785235, 0.41666667, 0.29166667, 0.69491525, 0.75      ],\n",
       "       [0.68456376, 0.77777778, 0.41666667, 0.83050847, 0.83333333],\n",
       "       [0.69127517, 0.55555556, 0.375     , 0.77966102, 0.70833333],\n",
       "       [0.69798658, 0.61111111, 0.41666667, 0.81355932, 0.875     ],\n",
       "       [0.70469799, 0.91666667, 0.41666667, 0.94915254, 0.83333333],\n",
       "       [0.7114094 , 0.16666667, 0.20833333, 0.59322034, 0.66666667],\n",
       "       [0.71812081, 0.83333333, 0.375     , 0.89830508, 0.70833333],\n",
       "       [0.72483221, 0.66666667, 0.20833333, 0.81355932, 0.70833333],\n",
       "       [0.73154362, 0.80555556, 0.66666667, 0.86440678, 1.        ],\n",
       "       [0.73825503, 0.61111111, 0.5       , 0.69491525, 0.79166667],\n",
       "       [0.74496644, 0.58333333, 0.29166667, 0.72881356, 0.75      ],\n",
       "       [0.75167785, 0.69444444, 0.41666667, 0.76271186, 0.83333333],\n",
       "       [0.75838926, 0.38888889, 0.20833333, 0.6779661 , 0.79166667],\n",
       "       [0.76510067, 0.41666667, 0.33333333, 0.69491525, 0.95833333],\n",
       "       [0.77181208, 0.58333333, 0.5       , 0.72881356, 0.91666667],\n",
       "       [0.77852349, 0.61111111, 0.41666667, 0.76271186, 0.70833333],\n",
       "       [0.7852349 , 0.94444444, 0.75      , 0.96610169, 0.875     ],\n",
       "       [0.79194631, 0.94444444, 0.25      , 1.        , 0.91666667],\n",
       "       [0.79865772, 0.47222222, 0.08333333, 0.6779661 , 0.58333333],\n",
       "       [0.80536913, 0.72222222, 0.5       , 0.79661017, 0.91666667],\n",
       "       [0.81208054, 0.36111111, 0.33333333, 0.66101695, 0.79166667],\n",
       "       [0.81879195, 0.94444444, 0.33333333, 0.96610169, 0.79166667],\n",
       "       [0.82550336, 0.55555556, 0.29166667, 0.66101695, 0.70833333],\n",
       "       [0.83221477, 0.66666667, 0.54166667, 0.79661017, 0.83333333],\n",
       "       [0.83892617, 0.80555556, 0.5       , 0.84745763, 0.70833333],\n",
       "       [0.84563758, 0.52777778, 0.33333333, 0.6440678 , 0.70833333],\n",
       "       [0.85234899, 0.5       , 0.41666667, 0.66101695, 0.70833333],\n",
       "       [0.8590604 , 0.58333333, 0.33333333, 0.77966102, 0.83333333],\n",
       "       [0.86577181, 0.80555556, 0.41666667, 0.81355932, 0.625     ],\n",
       "       [0.87248322, 0.86111111, 0.33333333, 0.86440678, 0.75      ],\n",
       "       [0.87919463, 1.        , 0.75      , 0.91525424, 0.79166667],\n",
       "       [0.88590604, 0.58333333, 0.33333333, 0.77966102, 0.875     ],\n",
       "       [0.89261745, 0.55555556, 0.33333333, 0.69491525, 0.58333333],\n",
       "       [0.89932886, 0.5       , 0.25      , 0.77966102, 0.54166667],\n",
       "       [0.90604027, 0.94444444, 0.41666667, 0.86440678, 0.91666667],\n",
       "       [0.91275168, 0.55555556, 0.58333333, 0.77966102, 0.95833333],\n",
       "       [0.91946309, 0.58333333, 0.45833333, 0.76271186, 0.70833333],\n",
       "       [0.9261745 , 0.47222222, 0.41666667, 0.6440678 , 0.70833333],\n",
       "       [0.93288591, 0.72222222, 0.45833333, 0.74576271, 0.83333333],\n",
       "       [0.93959732, 0.66666667, 0.45833333, 0.77966102, 0.95833333],\n",
       "       [0.94630872, 0.72222222, 0.45833333, 0.69491525, 0.91666667],\n",
       "       [0.95302013, 0.41666667, 0.29166667, 0.69491525, 0.75      ],\n",
       "       [0.95973154, 0.69444444, 0.5       , 0.83050847, 0.91666667],\n",
       "       [0.96644295, 0.66666667, 0.54166667, 0.79661017, 1.        ],\n",
       "       [0.97315436, 0.66666667, 0.41666667, 0.71186441, 0.91666667],\n",
       "       [0.97986577, 0.55555556, 0.20833333, 0.6779661 , 0.75      ],\n",
       "       [0.98657718, 0.61111111, 0.41666667, 0.71186441, 0.79166667],\n",
       "       [0.99328859, 0.52777778, 0.58333333, 0.74576271, 0.91666667],\n",
       "       [1.        , 0.44444444, 0.41666667, 0.69491525, 0.70833333]])"
      ]
     },
     "execution_count": 12,
     "metadata": {},
     "output_type": "execute_result"
    }
   ],
   "source": [
    "from sklearn.preprocessing import MinMaxScaler\n",
    "scaler = MinMaxScaler()\n",
    "X_scaled = scaler.fit_transform(X)\n",
    "X_scaled"
   ]
  },
  {
   "cell_type": "code",
   "execution_count": 13,
   "id": "c4e5b560",
   "metadata": {},
   "outputs": [],
   "source": [
    "from sklearn.model_selection import train_test_split\n",
    "X_train, X_test, y_train, y_test = train_test_split(X, y, test_size=0.5, random_state=42)"
   ]
  },
  {
   "cell_type": "code",
   "execution_count": 15,
   "id": "6538788f",
   "metadata": {},
   "outputs": [
    {
     "data": {
      "text/plain": [
       "array(['Iris-versicolor', 'Iris-setosa', 'Iris-virginica',\n",
       "       'Iris-versicolor', 'Iris-versicolor', 'Iris-setosa',\n",
       "       'Iris-versicolor', 'Iris-virginica', 'Iris-versicolor',\n",
       "       'Iris-versicolor', 'Iris-virginica', 'Iris-setosa', 'Iris-setosa',\n",
       "       'Iris-setosa', 'Iris-setosa', 'Iris-versicolor', 'Iris-virginica',\n",
       "       'Iris-versicolor', 'Iris-versicolor', 'Iris-virginica',\n",
       "       'Iris-setosa', 'Iris-virginica', 'Iris-setosa', 'Iris-virginica',\n",
       "       'Iris-virginica', 'Iris-virginica', 'Iris-virginica',\n",
       "       'Iris-virginica', 'Iris-setosa', 'Iris-setosa', 'Iris-setosa',\n",
       "       'Iris-setosa', 'Iris-versicolor', 'Iris-setosa', 'Iris-setosa',\n",
       "       'Iris-virginica', 'Iris-versicolor', 'Iris-setosa', 'Iris-setosa',\n",
       "       'Iris-setosa', 'Iris-virginica', 'Iris-versicolor',\n",
       "       'Iris-versicolor', 'Iris-setosa', 'Iris-setosa', 'Iris-versicolor',\n",
       "       'Iris-virginica', 'Iris-virginica', 'Iris-versicolor',\n",
       "       'Iris-virginica', 'Iris-versicolor', 'Iris-virginica',\n",
       "       'Iris-versicolor', 'Iris-setosa', 'Iris-virginica',\n",
       "       'Iris-versicolor', 'Iris-setosa', 'Iris-setosa', 'Iris-setosa',\n",
       "       'Iris-versicolor', 'Iris-virginica', 'Iris-setosa', 'Iris-setosa',\n",
       "       'Iris-setosa', 'Iris-versicolor', 'Iris-setosa', 'Iris-versicolor',\n",
       "       'Iris-virginica', 'Iris-setosa', 'Iris-versicolor',\n",
       "       'Iris-virginica', 'Iris-setosa', 'Iris-virginica',\n",
       "       'Iris-virginica', 'Iris-versicolor'], dtype=object)"
      ]
     },
     "execution_count": 15,
     "metadata": {},
     "output_type": "execute_result"
    }
   ],
   "source": [
    "from sklearn.neighbors import KNeighborsClassifier\n",
    "knn = KNeighborsClassifier()\n",
    "knn.fit(X_train,y_train)\n",
    "y_pred = knn.predict(X_test)\n",
    "y_pred"
   ]
  },
  {
   "cell_type": "code",
   "execution_count": 16,
   "id": "8eccc717",
   "metadata": {},
   "outputs": [],
   "source": [
    "import sklearn.metrics\n",
    "lbs = ['Iris-versicolor','Iris-sentosa','Iris-virginica']"
   ]
  },
  {
   "cell_type": "code",
   "execution_count": 17,
   "id": "1b48f937",
   "metadata": {},
   "outputs": [
    {
     "name": "stdout",
     "output_type": "stream",
     "text": [
      "[[23  0  0]\n",
      " [ 0  0  0]\n",
      " [ 0  0 23]]\n"
     ]
    }
   ],
   "source": [
    "print(sklearn.metrics.confusion_matrix(y_test, y_pred, labels=lbs))"
   ]
  },
  {
   "cell_type": "code",
   "execution_count": 18,
   "id": "850e7946",
   "metadata": {},
   "outputs": [
    {
     "name": "stdout",
     "output_type": "stream",
     "text": [
      "1.0\n"
     ]
    }
   ],
   "source": [
    "print(sklearn.metrics.accuracy_score(y_test,y_pred))"
   ]
  },
  {
   "cell_type": "code",
   "execution_count": 29,
   "id": "9a7cbee6",
   "metadata": {},
   "outputs": [
    {
     "name": "stdout",
     "output_type": "stream",
     "text": [
      "0.6666666666666666\n"
     ]
    },
    {
     "name": "stderr",
     "output_type": "stream",
     "text": [
      "F:\\Anaconda\\Lib\\site-packages\\sklearn\\metrics\\_classification.py:1469: UndefinedMetricWarning: Precision is ill-defined and being set to 0.0 in labels with no predicted samples. Use `zero_division` parameter to control this behavior.\n",
      "  _warn_prf(average, modifier, msg_start, len(result))\n"
     ]
    }
   ],
   "source": [
    "print(sklearn.metrics.precision_score(y_test,y_pred, labels=lbs, pos_label=1, average='macro'))"
   ]
  },
  {
   "cell_type": "code",
   "execution_count": 30,
   "id": "9fb04de7",
   "metadata": {},
   "outputs": [
    {
     "name": "stdout",
     "output_type": "stream",
     "text": [
      "0.6666666666666666\n"
     ]
    },
    {
     "name": "stderr",
     "output_type": "stream",
     "text": [
      "F:\\Anaconda\\Lib\\site-packages\\sklearn\\metrics\\_classification.py:1469: UndefinedMetricWarning: Recall is ill-defined and being set to 0.0 in labels with no true samples. Use `zero_division` parameter to control this behavior.\n",
      "  _warn_prf(average, modifier, msg_start, len(result))\n"
     ]
    }
   ],
   "source": [
    "print(sklearn.metrics.recall_score(y_test,y_pred, labels=lbs, pos_label=1, average='macro'))"
   ]
  },
  {
   "cell_type": "code",
   "execution_count": 31,
   "id": "e192da7e",
   "metadata": {},
   "outputs": [
    {
     "name": "stdout",
     "output_type": "stream",
     "text": [
      "0.6666666666666666\n"
     ]
    },
    {
     "name": "stderr",
     "output_type": "stream",
     "text": [
      "F:\\Anaconda\\Lib\\site-packages\\sklearn\\metrics\\_classification.py:1757: UndefinedMetricWarning: F-score is ill-defined and being set to 0.0 in labels with no true nor predicted samples. Use `zero_division` parameter to control this behavior.\n",
      "  _warn_prf(average, \"true nor predicted\", \"F-score is\", len(true_sum))\n"
     ]
    }
   ],
   "source": [
    "print(sklearn.metrics.f1_score(y_test,y_pred, labels=lbs, pos_label=1, average='macro'))"
   ]
  },
  {
   "cell_type": "code",
   "execution_count": 33,
   "id": "8dbad7ec",
   "metadata": {},
   "outputs": [
    {
     "data": {
      "image/png": "[encoded data removed]",
      "text/plain": [
       "<Figure size 640x480 with 1 Axes>"
      ]
     },
     "metadata": {},
     "output_type": "display_data"
    }
   ],
   "source": [
    "from sklearn.neighbors import KNeighborsClassifier\n",
    "score = []\n",
    "for i in range(1,151):\n",
    "    knn = KNeighborsClassifier(n_neighbors=i,metric='minkowski',p=2)\n",
    "    knn.fit(X_scaled,y)\n",
    "    y_pred=knn.predict(X_scaled)\n",
    "    score.append(sklearn.metrics.accuracy_score(y,y_pred))\n",
    "import matplotlib.pyplot as plt\n",
    "plt.plot(range (1,151),score)\n",
    "plt.show()"
   ]
  },
  {
   "cell_type": "code",
   "execution_count": null,
   "id": "38e16693",
   "metadata": {},
   "outputs": [],
   "source": []
  }
 ],
 "metadata": {
  "kernelspec": {
   "display_name": "Python 3 (ipykernel)",
   "language": "python",
   "name": "python3"
  },
  "language_info": {
   "codemirror_mode": {
    "name": "ipython",
    "version": 3
   },
   "file_extension": ".py",
   "mimetype": "text/x-python",
   "name": "python",
   "nbconvert_exporter": "python",
   "pygments_lexer": "ipython3",
   "version": "3.11.5"
  }
 },
 "nbformat": 4,
 "nbformat_minor": 5
}
