{
  "nbformat": 4,
  "nbformat_minor": 0,
  "metadata": {
    "colab": {
      "provenance": []
    },
    "kernelspec": {
      "name": "python3",
      "display_name": "Python 3"
    },
    "language_info": {
      "name": "python"
    }
  },
  "cells": [
    {
      "cell_type": "code",
      "execution_count": 10,
      "metadata": {
        "id": "rAqk6tnR72PH"
      },
      "outputs": [],
      "source": [
        "import pandas as pd\n",
        "import numpy as np\n",
        "import statsmodels.api as sm\n",
        "from sklearn.model_selection import train_test_split\n",
        "from sklearn.preprocessing import OneHotEncoder"
      ]
    },
    {
      "cell_type": "code",
      "source": [
        "data = pd.read_csv('Startups.csv')"
      ],
      "metadata": {
        "id": "ZEpRZWng77Nl"
      },
      "execution_count": 12,
      "outputs": []
    },
    {
      "cell_type": "code",
      "source": [
        "# One-hot encoding for the 'State' column\n",
        "data = pd.get_dummies(data, columns=['State'], drop_first=True)"
      ],
      "metadata": {
        "id": "E5KmPk8k8LQn"
      },
      "execution_count": 13,
      "outputs": []
    },
    {
      "cell_type": "code",
      "source": [
        "# Ensure all columns are numeric\n",
        "data = data.apply(pd.to_numeric, errors='coerce')"
      ],
      "metadata": {
        "id": "GnRj54_T8WxD"
      },
      "execution_count": 14,
      "outputs": []
    },
    {
      "cell_type": "code",
      "source": [
        "# Check for and handle any missing values\n",
        "data = data.dropna()"
      ],
      "metadata": {
        "id": "3YX-UXet8heR"
      },
      "execution_count": 15,
      "outputs": []
    },
    {
      "cell_type": "code",
      "source": [
        "# Define the independent variables (X) and the dependent variable (y)\n",
        "X = data.drop('Profit', axis=1)\n",
        "y = data['Profit']"
      ],
      "metadata": {
        "id": "QyN7_8uA8jKz"
      },
      "execution_count": 16,
      "outputs": []
    },
    {
      "cell_type": "code",
      "source": [
        "# Split the dataset into training and testing sets\n",
        "X_train, X_test, y_train, y_test = train_test_split(X, y, test_size=0.2, random_state=42)"
      ],
      "metadata": {
        "id": "2SYE70-o9h0t"
      },
      "execution_count": 17,
      "outputs": []
    },
    {
      "cell_type": "code",
      "source": [
        "# Add a constant to the model (intercept)\n",
        "X_train = sm.add_constant(X_train)\n",
        "X_test = sm.add_constant(X_test)"
      ],
      "metadata": {
        "id": "KFs2XVAX8r-5"
      },
      "execution_count": 18,
      "outputs": []
    },
    {
      "cell_type": "code",
      "source": [
        "# Ensure the training and testing data are numpy arrays\n",
        "X_train = np.asarray(X_train).astype(float)\n",
        "X_test = np.asarray(X_test).astype(float)\n",
        "y_train = np.asarray(y_train)\n",
        "y_test = np.asarray(y_test)"
      ],
      "metadata": {
        "id": "fg4CtO0S9u12"
      },
      "execution_count": 21,
      "outputs": []
    },
    {
      "cell_type": "code",
      "source": [
        "# Fit the multiple linear regression model\n",
        "model = sm.OLS(y_train, X_train).fit()"
      ],
      "metadata": {
        "id": "k9KizMpv9yzw"
      },
      "execution_count": 34,
      "outputs": []
    },
    {
      "cell_type": "code",
      "source": [
        "# Summary of the model\n",
        "print(model.summary())"
      ],
      "metadata": {
        "colab": {
          "base_uri": "https://localhost:8080/"
        },
        "id": "gRn60cWz-Lqq",
        "outputId": "7e4e9f02-b8a1-44e3-87ff-125e3be59f8f"
      },
      "execution_count": 23,
      "outputs": [
        {
          "output_type": "stream",
          "name": "stdout",
          "text": [
            "                            OLS Regression Results                            \n",
            "==============================================================================\n",
            "Dep. Variable:                      y   R-squared:                       0.954\n",
            "Model:                            OLS   Adj. R-squared:                  0.947\n",
            "Method:                 Least Squares   F-statistic:                     140.1\n",
            "Date:                Sun, 26 May 2024   Prob (F-statistic):           1.13e-21\n",
            "Time:                        08:16:33   Log-Likelihood:                -420.63\n",
            "No. Observations:                  40   AIC:                             853.3\n",
            "Df Residuals:                      34   BIC:                             863.4\n",
            "Df Model:                           5                                         \n",
            "Covariance Type:            nonrobust                                         \n",
            "==============================================================================\n",
            "                 coef    std err          t      P>|t|      [0.025      0.975]\n",
            "------------------------------------------------------------------------------\n",
            "const       5.403e+04   8457.293      6.388      0.000    3.68e+04    7.12e+04\n",
            "x1             0.8056      0.052     15.383      0.000       0.699       0.912\n",
            "x2            -0.0688      0.061     -1.133      0.265      -0.192       0.055\n",
            "x3             0.0299      0.022      1.346      0.187      -0.015       0.075\n",
            "x4           938.7930   3893.511      0.241      0.811   -6973.773    8851.359\n",
            "x5             6.9878   3882.765      0.002      0.999   -7883.740    7897.715\n",
            "==============================================================================\n",
            "Omnibus:                       15.391   Durbin-Watson:                   1.751\n",
            "Prob(Omnibus):                  0.000   Jarque-Bera (JB):               20.231\n",
            "Skew:                          -1.142   Prob(JB):                     4.05e-05\n",
            "Kurtosis:                       5.631   Cond. No.                     1.64e+06\n",
            "==============================================================================\n",
            "\n",
            "Notes:\n",
            "[1] Standard Errors assume that the covariance matrix of the errors is correctly specified.\n",
            "[2] The condition number is large, 1.64e+06. This might indicate that there are\n",
            "strong multicollinearity or other numerical problems.\n"
          ]
        }
      ]
    },
    {
      "cell_type": "code",
      "source": [
        "# Predicting the Test set results\n",
        "y_pred = model.predict(X_test)"
      ],
      "metadata": {
        "id": "OCGpmL3u-WCz"
      },
      "execution_count": 24,
      "outputs": []
    },
    {
      "cell_type": "code",
      "source": [
        "# Evaluate the model\n",
        "mse = mean_squared_error(y_test, y_pred)\n",
        "r2 = r2_score(y_test, y_pred)\n",
        "print('Mean Squared Error:', mse)\n",
        "print('R-squared:', r2)\n",
        "\n"
      ],
      "metadata": {
        "colab": {
          "base_uri": "https://localhost:8080/"
        },
        "id": "_NlilQQT-YjN",
        "outputId": "6b949c69-e584-48d2-fb70-01f507662323"
      },
      "execution_count": 25,
      "outputs": [
        {
          "output_type": "stream",
          "name": "stdout",
          "text": [
            "Mean Squared Error: 82010363.03969769\n",
            "R-squared: 0.8987266414385483\n"
          ]
        }
      ]
    },
    {
      "cell_type": "code",
      "source": [
        "\n",
        "# Predicting profit for a new startup\n",
        "new_startup = pd.DataFrame({\n",
        "    'R&D Spend': [150000],\n",
        "    'Administration': [120000],\n",
        "    'Marketing Spend': [300000],\n",
        "    'State_Florida': [0],\n",
        "    'State_New York': [1]\n",
        "})"
      ],
      "metadata": {
        "id": "f3kaF4Ky-bb5"
      },
      "execution_count": 26,
      "outputs": []
    },
    {
      "cell_type": "code",
      "source": [
        "new_startup['State_California'] = 0\n",
        "new_startup = sm.add_constant(new_startup)\n",
        "predicted_profit = model.predict(new_startup)\n",
        "print('Predicted Profit for the new startup:', predicted_profit[0])"
      ],
      "metadata": {
        "colab": {
          "base_uri": "https://localhost:8080/"
        },
        "id": "vx8MK-TZ-e1E",
        "outputId": "4a353445-1542-41c3-f5cf-48f03329d2b8"
      },
      "execution_count": 35,
      "outputs": [
        {
          "output_type": "stream",
          "name": "stdout",
          "text": [
            "Predicted Profit for the new startup: 8104282917.144777\n"
          ]
        }
      ]
    }
  ]
}