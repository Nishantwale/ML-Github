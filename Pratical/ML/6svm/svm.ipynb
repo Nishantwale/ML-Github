{
  "nbformat": 4,
  "nbformat_minor": 0,
  "metadata": {
    "colab": {
      "provenance": []
    },
    "kernelspec": {
      "name": "python3",
      "display_name": "Python 3"
    },
    "language_info": {
      "name": "python"
    }
  },
  "cells": [
    {
      "cell_type": "code",
      "execution_count": 7,
      "metadata": {
        "colab": {
          "base_uri": "https://localhost:8080/"
        },
        "id": "Ip8lBPngikO0",
        "outputId": "510830b8-6e92-499a-a5ed-10fc11e80471"
      },
      "outputs": [
        {
          "output_type": "stream",
          "name": "stdout",
          "text": [
            "Dataset Overview:\n",
            "   sepal_len  sepal_wid  petal_len  petal_wid      iris_fl\n",
            "0        5.1        3.5        1.4        0.2  Iris-setosa\n",
            "1        4.9        3.0        1.4        0.2  Iris-setosa\n",
            "2        4.7        3.2        1.3        0.2  Iris-setosa\n",
            "3        4.6        3.1        1.5        0.2  Iris-setosa\n",
            "4        5.0        3.6        1.4        0.2  Iris-setosa\n",
            "\n",
            "Dataset Information:\n",
            "<class 'pandas.core.frame.DataFrame'>\n",
            "RangeIndex: 150 entries, 0 to 149\n",
            "Data columns (total 5 columns):\n",
            " #   Column     Non-Null Count  Dtype  \n",
            "---  ------     --------------  -----  \n",
            " 0   sepal_len  150 non-null    float64\n",
            " 1   sepal_wid  150 non-null    float64\n",
            " 2   petal_len  150 non-null    float64\n",
            " 3   petal_wid  150 non-null    float64\n",
            " 4   iris_fl    150 non-null    object \n",
            "dtypes: float64(4), object(1)\n",
            "memory usage: 6.0+ KB\n",
            "None\n",
            "Accuracy: 1.00\n"
          ]
        }
      ],
      "source": [
        "import pandas as pd\n",
        "from sklearn.model_selection import train_test_split\n",
        "from sklearn.svm import SVC\n",
        "from sklearn.metrics import accuracy_score\n",
        "\n",
        "# Step 1: Load the dataset\n",
        "data = pd.read_csv('iris.csv')\n",
        "\n",
        "# Step 2: Explore the data\n",
        "print(\"Dataset Overview:\")\n",
        "print(data.head())\n",
        "print(\"\\nDataset Information:\")\n",
        "print(data.info())\n",
        "\n",
        "# Step 3: Preprocess the data\n",
        "# Assuming there are no missing values and the target variable is labeled 'iris_fl'\n",
        "# Encode categorical variables if necessary\n",
        "\n",
        "# Step 4: Split the data into features and target variable\n",
        "X = data[['sepal_len', 'sepal_wid', 'petal_len', 'petal_wid']]\n",
        "y = data['iris_fl']\n",
        "\n",
        "# Step 5: Split the data into training and testing sets\n",
        "X_train, X_test, y_train, y_test = train_test_split(X, y, test_size=0.2, random_state=42)\n",
        "\n",
        "# Step 6: Train the SVC Model\n",
        "model = SVC(kernel='linear')  # You can choose different kernels based on your requirements\n",
        "model.fit(X_train, y_train)\n",
        "\n",
        "# Step 7: Evaluate the Model\n",
        "# Predict on the test set\n",
        "y_pred = model.predict(X_test)\n",
        "\n",
        "# Model Evaluation\n",
        "accuracy = accuracy_score(y_test, y_pred)\n",
        "print(f'Accuracy: {accuracy:.2f}')\n"
      ]
    }
  ]
}